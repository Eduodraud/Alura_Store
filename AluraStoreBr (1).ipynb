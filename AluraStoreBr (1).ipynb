{
  "nbformat": 4,
  "nbformat_minor": 0,
  "metadata": {
    "colab": {
      "provenance": [],
      "collapsed_sections": [
        "2V_vcAPzWZmR",
        "Rq6tU_xSY3jk",
        "DmNp1KPBZCm-"
      ]
    },
    "kernelspec": {
      "name": "python3",
      "display_name": "Python 3"
    },
    "language_info": {
      "name": "python"
    }
  },
  "cells": [
    {
      "cell_type": "markdown",
      "source": [
        "### Importação dos dados\n",
        "\n"
      ],
      "metadata": {
        "id": "RhEdWd9YUR6H"
      }
    },
    {
      "cell_type": "code",
      "execution_count": 27,
      "metadata": {
        "colab": {
          "base_uri": "https://localhost:8080/",
          "height": 293
        },
        "id": "T3EvaeQ_INIL",
        "outputId": "84dcade0-88c3-45ce-f2b9-f59a89299917"
      },
      "outputs": [
        {
          "output_type": "execute_result",
          "data": {
            "text/plain": [
              "                 Produto Categoria do Produto    Preço      Frete  \\\n",
              "0     Assistente virtual          eletronicos   219.08   9.249790   \n",
              "1         Mesa de jantar               moveis   256.35  11.234305   \n",
              "2      Jogo de tabuleiro           brinquedos   279.51  21.262681   \n",
              "3            Micro-ondas     eletrodomesticos  1009.99  54.667344   \n",
              "4  Cadeira de escritório               moveis   446.99  26.964689   \n",
              "\n",
              "  Data da Compra        Vendedor Local da compra  Avaliação da compra  \\\n",
              "0     16/01/2021     Pedro Gomes              SP                    4   \n",
              "1     18/05/2022  Beatriz Moraes              RJ                    1   \n",
              "2     15/03/2021      João Souza              DF                    1   \n",
              "3     03/05/2022      João Souza              RS                    4   \n",
              "4     07/11/2020   Larissa Alves              MG                    5   \n",
              "\n",
              "  Tipo de pagamento  Quantidade de parcelas    lat    lon  \n",
              "0    cartao_credito                       8 -22.19 -48.79  \n",
              "1    cartao_credito                       4 -22.25 -42.66  \n",
              "2    cartao_credito                       1 -15.83 -47.86  \n",
              "3            boleto                       1 -30.17 -53.50  \n",
              "4            boleto                       1 -18.10 -44.38  "
            ],
            "text/html": [
              "\n",
              "  <div id=\"df-db9463e1-9f11-4c7e-939c-28a6bbbe970f\" class=\"colab-df-container\">\n",
              "    <div>\n",
              "<style scoped>\n",
              "    .dataframe tbody tr th:only-of-type {\n",
              "        vertical-align: middle;\n",
              "    }\n",
              "\n",
              "    .dataframe tbody tr th {\n",
              "        vertical-align: top;\n",
              "    }\n",
              "\n",
              "    .dataframe thead th {\n",
              "        text-align: right;\n",
              "    }\n",
              "</style>\n",
              "<table border=\"1\" class=\"dataframe\">\n",
              "  <thead>\n",
              "    <tr style=\"text-align: right;\">\n",
              "      <th></th>\n",
              "      <th>Produto</th>\n",
              "      <th>Categoria do Produto</th>\n",
              "      <th>Preço</th>\n",
              "      <th>Frete</th>\n",
              "      <th>Data da Compra</th>\n",
              "      <th>Vendedor</th>\n",
              "      <th>Local da compra</th>\n",
              "      <th>Avaliação da compra</th>\n",
              "      <th>Tipo de pagamento</th>\n",
              "      <th>Quantidade de parcelas</th>\n",
              "      <th>lat</th>\n",
              "      <th>lon</th>\n",
              "    </tr>\n",
              "  </thead>\n",
              "  <tbody>\n",
              "    <tr>\n",
              "      <th>0</th>\n",
              "      <td>Assistente virtual</td>\n",
              "      <td>eletronicos</td>\n",
              "      <td>219.08</td>\n",
              "      <td>9.249790</td>\n",
              "      <td>16/01/2021</td>\n",
              "      <td>Pedro Gomes</td>\n",
              "      <td>SP</td>\n",
              "      <td>4</td>\n",
              "      <td>cartao_credito</td>\n",
              "      <td>8</td>\n",
              "      <td>-22.19</td>\n",
              "      <td>-48.79</td>\n",
              "    </tr>\n",
              "    <tr>\n",
              "      <th>1</th>\n",
              "      <td>Mesa de jantar</td>\n",
              "      <td>moveis</td>\n",
              "      <td>256.35</td>\n",
              "      <td>11.234305</td>\n",
              "      <td>18/05/2022</td>\n",
              "      <td>Beatriz Moraes</td>\n",
              "      <td>RJ</td>\n",
              "      <td>1</td>\n",
              "      <td>cartao_credito</td>\n",
              "      <td>4</td>\n",
              "      <td>-22.25</td>\n",
              "      <td>-42.66</td>\n",
              "    </tr>\n",
              "    <tr>\n",
              "      <th>2</th>\n",
              "      <td>Jogo de tabuleiro</td>\n",
              "      <td>brinquedos</td>\n",
              "      <td>279.51</td>\n",
              "      <td>21.262681</td>\n",
              "      <td>15/03/2021</td>\n",
              "      <td>João Souza</td>\n",
              "      <td>DF</td>\n",
              "      <td>1</td>\n",
              "      <td>cartao_credito</td>\n",
              "      <td>1</td>\n",
              "      <td>-15.83</td>\n",
              "      <td>-47.86</td>\n",
              "    </tr>\n",
              "    <tr>\n",
              "      <th>3</th>\n",
              "      <td>Micro-ondas</td>\n",
              "      <td>eletrodomesticos</td>\n",
              "      <td>1009.99</td>\n",
              "      <td>54.667344</td>\n",
              "      <td>03/05/2022</td>\n",
              "      <td>João Souza</td>\n",
              "      <td>RS</td>\n",
              "      <td>4</td>\n",
              "      <td>boleto</td>\n",
              "      <td>1</td>\n",
              "      <td>-30.17</td>\n",
              "      <td>-53.50</td>\n",
              "    </tr>\n",
              "    <tr>\n",
              "      <th>4</th>\n",
              "      <td>Cadeira de escritório</td>\n",
              "      <td>moveis</td>\n",
              "      <td>446.99</td>\n",
              "      <td>26.964689</td>\n",
              "      <td>07/11/2020</td>\n",
              "      <td>Larissa Alves</td>\n",
              "      <td>MG</td>\n",
              "      <td>5</td>\n",
              "      <td>boleto</td>\n",
              "      <td>1</td>\n",
              "      <td>-18.10</td>\n",
              "      <td>-44.38</td>\n",
              "    </tr>\n",
              "  </tbody>\n",
              "</table>\n",
              "</div>\n",
              "    <div class=\"colab-df-buttons\">\n",
              "\n",
              "  <div class=\"colab-df-container\">\n",
              "    <button class=\"colab-df-convert\" onclick=\"convertToInteractive('df-db9463e1-9f11-4c7e-939c-28a6bbbe970f')\"\n",
              "            title=\"Convert this dataframe to an interactive table.\"\n",
              "            style=\"display:none;\">\n",
              "\n",
              "  <svg xmlns=\"http://www.w3.org/2000/svg\" height=\"24px\" viewBox=\"0 -960 960 960\">\n",
              "    <path d=\"M120-120v-720h720v720H120Zm60-500h600v-160H180v160Zm220 220h160v-160H400v160Zm0 220h160v-160H400v160ZM180-400h160v-160H180v160Zm440 0h160v-160H620v160ZM180-180h160v-160H180v160Zm440 0h160v-160H620v160Z\"/>\n",
              "  </svg>\n",
              "    </button>\n",
              "\n",
              "  <style>\n",
              "    .colab-df-container {\n",
              "      display:flex;\n",
              "      gap: 12px;\n",
              "    }\n",
              "\n",
              "    .colab-df-convert {\n",
              "      background-color: #E8F0FE;\n",
              "      border: none;\n",
              "      border-radius: 50%;\n",
              "      cursor: pointer;\n",
              "      display: none;\n",
              "      fill: #1967D2;\n",
              "      height: 32px;\n",
              "      padding: 0 0 0 0;\n",
              "      width: 32px;\n",
              "    }\n",
              "\n",
              "    .colab-df-convert:hover {\n",
              "      background-color: #E2EBFA;\n",
              "      box-shadow: 0px 1px 2px rgba(60, 64, 67, 0.3), 0px 1px 3px 1px rgba(60, 64, 67, 0.15);\n",
              "      fill: #174EA6;\n",
              "    }\n",
              "\n",
              "    .colab-df-buttons div {\n",
              "      margin-bottom: 4px;\n",
              "    }\n",
              "\n",
              "    [theme=dark] .colab-df-convert {\n",
              "      background-color: #3B4455;\n",
              "      fill: #D2E3FC;\n",
              "    }\n",
              "\n",
              "    [theme=dark] .colab-df-convert:hover {\n",
              "      background-color: #434B5C;\n",
              "      box-shadow: 0px 1px 3px 1px rgba(0, 0, 0, 0.15);\n",
              "      filter: drop-shadow(0px 1px 2px rgba(0, 0, 0, 0.3));\n",
              "      fill: #FFFFFF;\n",
              "    }\n",
              "  </style>\n",
              "\n",
              "    <script>\n",
              "      const buttonEl =\n",
              "        document.querySelector('#df-db9463e1-9f11-4c7e-939c-28a6bbbe970f button.colab-df-convert');\n",
              "      buttonEl.style.display =\n",
              "        google.colab.kernel.accessAllowed ? 'block' : 'none';\n",
              "\n",
              "      async function convertToInteractive(key) {\n",
              "        const element = document.querySelector('#df-db9463e1-9f11-4c7e-939c-28a6bbbe970f');\n",
              "        const dataTable =\n",
              "          await google.colab.kernel.invokeFunction('convertToInteractive',\n",
              "                                                    [key], {});\n",
              "        if (!dataTable) return;\n",
              "\n",
              "        const docLinkHtml = 'Like what you see? Visit the ' +\n",
              "          '<a target=\"_blank\" href=https://colab.research.google.com/notebooks/data_table.ipynb>data table notebook</a>'\n",
              "          + ' to learn more about interactive tables.';\n",
              "        element.innerHTML = '';\n",
              "        dataTable['output_type'] = 'display_data';\n",
              "        await google.colab.output.renderOutput(dataTable, element);\n",
              "        const docLink = document.createElement('div');\n",
              "        docLink.innerHTML = docLinkHtml;\n",
              "        element.appendChild(docLink);\n",
              "      }\n",
              "    </script>\n",
              "  </div>\n",
              "\n",
              "\n",
              "    <div id=\"df-170bdc96-5fa4-4407-b160-0eafeff58eb2\">\n",
              "      <button class=\"colab-df-quickchart\" onclick=\"quickchart('df-170bdc96-5fa4-4407-b160-0eafeff58eb2')\"\n",
              "                title=\"Suggest charts\"\n",
              "                style=\"display:none;\">\n",
              "\n",
              "<svg xmlns=\"http://www.w3.org/2000/svg\" height=\"24px\"viewBox=\"0 0 24 24\"\n",
              "     width=\"24px\">\n",
              "    <g>\n",
              "        <path d=\"M19 3H5c-1.1 0-2 .9-2 2v14c0 1.1.9 2 2 2h14c1.1 0 2-.9 2-2V5c0-1.1-.9-2-2-2zM9 17H7v-7h2v7zm4 0h-2V7h2v10zm4 0h-2v-4h2v4z\"/>\n",
              "    </g>\n",
              "</svg>\n",
              "      </button>\n",
              "\n",
              "<style>\n",
              "  .colab-df-quickchart {\n",
              "      --bg-color: #E8F0FE;\n",
              "      --fill-color: #1967D2;\n",
              "      --hover-bg-color: #E2EBFA;\n",
              "      --hover-fill-color: #174EA6;\n",
              "      --disabled-fill-color: #AAA;\n",
              "      --disabled-bg-color: #DDD;\n",
              "  }\n",
              "\n",
              "  [theme=dark] .colab-df-quickchart {\n",
              "      --bg-color: #3B4455;\n",
              "      --fill-color: #D2E3FC;\n",
              "      --hover-bg-color: #434B5C;\n",
              "      --hover-fill-color: #FFFFFF;\n",
              "      --disabled-bg-color: #3B4455;\n",
              "      --disabled-fill-color: #666;\n",
              "  }\n",
              "\n",
              "  .colab-df-quickchart {\n",
              "    background-color: var(--bg-color);\n",
              "    border: none;\n",
              "    border-radius: 50%;\n",
              "    cursor: pointer;\n",
              "    display: none;\n",
              "    fill: var(--fill-color);\n",
              "    height: 32px;\n",
              "    padding: 0;\n",
              "    width: 32px;\n",
              "  }\n",
              "\n",
              "  .colab-df-quickchart:hover {\n",
              "    background-color: var(--hover-bg-color);\n",
              "    box-shadow: 0 1px 2px rgba(60, 64, 67, 0.3), 0 1px 3px 1px rgba(60, 64, 67, 0.15);\n",
              "    fill: var(--button-hover-fill-color);\n",
              "  }\n",
              "\n",
              "  .colab-df-quickchart-complete:disabled,\n",
              "  .colab-df-quickchart-complete:disabled:hover {\n",
              "    background-color: var(--disabled-bg-color);\n",
              "    fill: var(--disabled-fill-color);\n",
              "    box-shadow: none;\n",
              "  }\n",
              "\n",
              "  .colab-df-spinner {\n",
              "    border: 2px solid var(--fill-color);\n",
              "    border-color: transparent;\n",
              "    border-bottom-color: var(--fill-color);\n",
              "    animation:\n",
              "      spin 1s steps(1) infinite;\n",
              "  }\n",
              "\n",
              "  @keyframes spin {\n",
              "    0% {\n",
              "      border-color: transparent;\n",
              "      border-bottom-color: var(--fill-color);\n",
              "      border-left-color: var(--fill-color);\n",
              "    }\n",
              "    20% {\n",
              "      border-color: transparent;\n",
              "      border-left-color: var(--fill-color);\n",
              "      border-top-color: var(--fill-color);\n",
              "    }\n",
              "    30% {\n",
              "      border-color: transparent;\n",
              "      border-left-color: var(--fill-color);\n",
              "      border-top-color: var(--fill-color);\n",
              "      border-right-color: var(--fill-color);\n",
              "    }\n",
              "    40% {\n",
              "      border-color: transparent;\n",
              "      border-right-color: var(--fill-color);\n",
              "      border-top-color: var(--fill-color);\n",
              "    }\n",
              "    60% {\n",
              "      border-color: transparent;\n",
              "      border-right-color: var(--fill-color);\n",
              "    }\n",
              "    80% {\n",
              "      border-color: transparent;\n",
              "      border-right-color: var(--fill-color);\n",
              "      border-bottom-color: var(--fill-color);\n",
              "    }\n",
              "    90% {\n",
              "      border-color: transparent;\n",
              "      border-bottom-color: var(--fill-color);\n",
              "    }\n",
              "  }\n",
              "</style>\n",
              "\n",
              "      <script>\n",
              "        async function quickchart(key) {\n",
              "          const quickchartButtonEl =\n",
              "            document.querySelector('#' + key + ' button');\n",
              "          quickchartButtonEl.disabled = true;  // To prevent multiple clicks.\n",
              "          quickchartButtonEl.classList.add('colab-df-spinner');\n",
              "          try {\n",
              "            const charts = await google.colab.kernel.invokeFunction(\n",
              "                'suggestCharts', [key], {});\n",
              "          } catch (error) {\n",
              "            console.error('Error during call to suggestCharts:', error);\n",
              "          }\n",
              "          quickchartButtonEl.classList.remove('colab-df-spinner');\n",
              "          quickchartButtonEl.classList.add('colab-df-quickchart-complete');\n",
              "        }\n",
              "        (() => {\n",
              "          let quickchartButtonEl =\n",
              "            document.querySelector('#df-170bdc96-5fa4-4407-b160-0eafeff58eb2 button');\n",
              "          quickchartButtonEl.style.display =\n",
              "            google.colab.kernel.accessAllowed ? 'block' : 'none';\n",
              "        })();\n",
              "      </script>\n",
              "    </div>\n",
              "\n",
              "    </div>\n",
              "  </div>\n"
            ],
            "application/vnd.google.colaboratory.intrinsic+json": {
              "type": "dataframe",
              "variable_name": "loja",
              "summary": "{\n  \"name\": \"loja\",\n  \"rows\": 2359,\n  \"fields\": [\n    {\n      \"column\": \"Produto\",\n      \"properties\": {\n        \"dtype\": \"category\",\n        \"num_unique_values\": 51,\n        \"samples\": [\n          \"Viol\\u00e3o\",\n          \"Bola de basquete\",\n          \"Smartwatch\"\n        ],\n        \"semantic_type\": \"\",\n        \"description\": \"\"\n      }\n    },\n    {\n      \"column\": \"Categoria do Produto\",\n      \"properties\": {\n        \"dtype\": \"category\",\n        \"num_unique_values\": 8,\n        \"samples\": [\n          \"moveis\",\n          \"esporte e lazer\",\n          \"eletronicos\"\n        ],\n        \"semantic_type\": \"\",\n        \"description\": \"\"\n      }\n    },\n    {\n      \"column\": \"Pre\\u00e7o\",\n      \"properties\": {\n        \"dtype\": \"number\",\n        \"std\": 819.5827782539145,\n        \"min\": 10.07,\n        \"max\": 3969.38,\n        \"num_unique_values\": 2315,\n        \"samples\": [\n          446.11,\n          107.31,\n          65.86\n        ],\n        \"semantic_type\": \"\",\n        \"description\": \"\"\n      }\n    },\n    {\n      \"column\": \"Frete\",\n      \"properties\": {\n        \"dtype\": \"number\",\n        \"std\": 43.814183327408166,\n        \"min\": 0.0,\n        \"max\": 214.3770604781,\n        \"num_unique_values\": 2149,\n        \"samples\": [\n          83.815279607,\n          16.069664669,\n          14.0344876928\n        ],\n        \"semantic_type\": \"\",\n        \"description\": \"\"\n      }\n    },\n    {\n      \"column\": \"Data da Compra\",\n      \"properties\": {\n        \"dtype\": \"object\",\n        \"num_unique_values\": 1018,\n        \"samples\": [\n          \"15/09/2022\",\n          \"03/06/2020\",\n          \"06/11/2021\"\n        ],\n        \"semantic_type\": \"\",\n        \"description\": \"\"\n      }\n    },\n    {\n      \"column\": \"Vendedor\",\n      \"properties\": {\n        \"dtype\": \"category\",\n        \"num_unique_values\": 14,\n        \"samples\": [\n          \"Juliana Costa\",\n          \"Mariana Ferreira\",\n          \"Pedro Gomes\"\n        ],\n        \"semantic_type\": \"\",\n        \"description\": \"\"\n      }\n    },\n    {\n      \"column\": \"Local da compra\",\n      \"properties\": {\n        \"dtype\": \"category\",\n        \"num_unique_values\": 26,\n        \"samples\": [\n          \"TO\",\n          \"RN\",\n          \"SP\"\n        ],\n        \"semantic_type\": \"\",\n        \"description\": \"\"\n      }\n    },\n    {\n      \"column\": \"Avalia\\u00e7\\u00e3o da compra\",\n      \"properties\": {\n        \"dtype\": \"number\",\n        \"std\": 1,\n        \"min\": 1,\n        \"max\": 5,\n        \"num_unique_values\": 5,\n        \"samples\": [\n          1,\n          2,\n          5\n        ],\n        \"semantic_type\": \"\",\n        \"description\": \"\"\n      }\n    },\n    {\n      \"column\": \"Tipo de pagamento\",\n      \"properties\": {\n        \"dtype\": \"category\",\n        \"num_unique_values\": 4,\n        \"samples\": [\n          \"boleto\",\n          \"cartao_debito\",\n          \"cartao_credito\"\n        ],\n        \"semantic_type\": \"\",\n        \"description\": \"\"\n      }\n    },\n    {\n      \"column\": \"Quantidade de parcelas\",\n      \"properties\": {\n        \"dtype\": \"number\",\n        \"std\": 2,\n        \"min\": 1,\n        \"max\": 24,\n        \"num_unique_values\": 15,\n        \"samples\": [\n          7,\n          14,\n          8\n        ],\n        \"semantic_type\": \"\",\n        \"description\": \"\"\n      }\n    },\n    {\n      \"column\": \"lat\",\n      \"properties\": {\n        \"dtype\": \"number\",\n        \"std\": 5.372399916530833,\n        \"min\": -30.17,\n        \"max\": 1.41,\n        \"num_unique_values\": 26,\n        \"samples\": [\n          -9.46,\n          -5.81,\n          -22.19\n        ],\n        \"semantic_type\": \"\",\n        \"description\": \"\"\n      }\n    },\n    {\n      \"column\": \"lon\",\n      \"properties\": {\n        \"dtype\": \"number\",\n        \"std\": 4.183180020544179,\n        \"min\": -70.55,\n        \"max\": -36.59,\n        \"num_unique_values\": 26,\n        \"samples\": [\n          -48.26,\n          -36.59,\n          -48.79\n        ],\n        \"semantic_type\": \"\",\n        \"description\": \"\"\n      }\n    }\n  ]\n}"
            }
          },
          "metadata": {},
          "execution_count": 27
        }
      ],
      "source": [
        "import pandas as pd\n",
        "\n",
        "url = \"https://raw.githubusercontent.com/alura-es-cursos/challenge1-data-science/refs/heads/main/base-de-dados-challenge-1/loja_1.csv\"\n",
        "url2 = \"https://raw.githubusercontent.com/alura-es-cursos/challenge1-data-science/refs/heads/main/base-de-dados-challenge-1/loja_2.csv\"\n",
        "url3 = \"https://raw.githubusercontent.com/alura-es-cursos/challenge1-data-science/refs/heads/main/base-de-dados-challenge-1/loja_3.csv\"\n",
        "url4 = \"https://raw.githubusercontent.com/alura-es-cursos/challenge1-data-science/refs/heads/main/base-de-dados-challenge-1/loja_4.csv\"\n",
        "\n",
        "loja = pd.read_csv(url)\n",
        "loja2 = pd.read_csv(url2)\n",
        "loja3 = pd.read_csv(url3)\n",
        "loja4 = pd.read_csv(url4)\n",
        "\n",
        "loja.head()"
      ]
    },
    {
      "cell_type": "markdown",
      "source": [
        "#1. Análise do faturamento\n"
      ],
      "metadata": {
        "id": "X62IW3KFUIYm"
      }
    },
    {
      "cell_type": "code",
      "source": [
        "import matplotlib.pyplot as plt\n",
        "\n",
        "faturamento_loja1 = loja['Preço'].sum()\n",
        "faturamento_loja2 = loja2['Preço'].sum()\n",
        "faturamento_loja3 = loja3['Preço'].sum()\n",
        "faturamento_loja4 = loja4['Preço'].sum()\n",
        "\n",
        "print(f\"Faturamento da Loja 1: R${faturamento_loja1:,.2f}\")\n",
        "print(f\"Faturamento da Loja 2: R${faturamento_loja2:,.2f}\")\n",
        "print(f\"Faturamento da Loja 3: R${faturamento_loja3:,.2f}\")\n",
        "print(f\"Faturamento da Loja 4: R${faturamento_loja4:,.2f}\")\n",
        "\n",
        "valores = {'loja1': faturamento_loja1, 'loja2': faturamento_loja2, 'loja3' : faturamento_loja3, 'loja4': faturamento_loja4}\n",
        "Lojas = list(valores.keys())\n",
        "\n",
        "max_valor = max(valores.values())\n",
        "min_valor = min(valores.values())\n",
        "\n",
        "faturamento_loja_max = [faturamento for faturamento, valor in valores.items() if valor == max_valor]\n",
        "faturamento_loja_min = [faturamento for faturamento, valor in valores.items() if valor ==min_valor]\n",
        "print(f\"O maior valor é {max_valor}, encontrado em: {', '.join(faturamento_loja_max)}\")\n",
        "print(f\"O menor valor foi {min_valor}, encontrado em: {','.join(faturamento_loja_min)}\")\n",
        "\n",
        "\n"
      ],
      "metadata": {
        "id": "xykobSftV64I",
        "colab": {
          "base_uri": "https://localhost:8080/"
        },
        "outputId": "16e4b5df-47eb-4945-b341-178919b038ef"
      },
      "execution_count": 28,
      "outputs": [
        {
          "output_type": "stream",
          "name": "stdout",
          "text": [
            "Faturamento da Loja 1: R$1,534,509.12\n",
            "Faturamento da Loja 2: R$1,488,459.06\n",
            "Faturamento da Loja 3: R$1,464,025.03\n",
            "Faturamento da Loja 4: R$1,384,497.58\n",
            "O maior valor é 1534509.12, encontrado em: loja1\n",
            "O menor valor foi 1384497.58, encontrado em: loja4\n"
          ]
        }
      ]
    },
    {
      "cell_type": "code",
      "source": [
        "faturamento_global = [faturamento_loja1, faturamento_loja2, faturamento_loja3, faturamento_loja4]\n",
        "plt.bar(x= Lojas, height = faturamento_global )"
      ],
      "metadata": {
        "id": "KDyr8E71V3m-",
        "colab": {
          "base_uri": "https://localhost:8080/",
          "height": 462
        },
        "outputId": "d5b2b345-d12a-4352-e714-8608ebb47c37"
      },
      "execution_count": 29,
      "outputs": [
        {
          "output_type": "execute_result",
          "data": {
            "text/plain": [
              "<BarContainer object of 4 artists>"
            ]
          },
          "metadata": {},
          "execution_count": 29
        },
        {
          "output_type": "display_data",
          "data": {
            "text/plain": [
              "<Figure size 640x480 with 1 Axes>"
            ],
            "image/png": "[encoded data removed]"
          },
          "metadata": {}
        }
      ]
    },
    {
      "cell_type": "code",
      "source": [],
      "metadata": {
        "id": "4tlxWVIUjWpV"
      },
      "execution_count": 29,
      "outputs": []
    },
    {
      "cell_type": "markdown",
      "source": [
        "# 2. Vendas por Categoria\n"
      ],
      "metadata": {
        "id": "2V_vcAPzWZmR"
      }
    },
    {
      "cell_type": "code",
      "source": [
        "categorias = (loja['Categoria do Produto'])\n",
        "\n"
      ],
      "metadata": {
        "id": "mFUxILR3xYFw"
      },
      "execution_count": 30,
      "outputs": []
    },
    {
      "cell_type": "code",
      "source": [
        "print('\\033[1mLoja1 \\033[0m')\n",
        "vendas_por_categoria1 = loja.groupby('Categoria do Produto')['Preço'].sum()\n",
        "print(vendas_por_categoria1)\n",
        "print()\n",
        "print('\\033[1mLoja2 \\033[0m')\n",
        "vendas_por_categoria2 = (loja2.groupby('Categoria do Produto')['Preço'].sum())\n",
        "print(vendas_por_categoria2)\n",
        "print()\n",
        "print('\\033[1mLoja3 \\033[0m')\n",
        "vendas_por_categoria3 = (loja3.groupby('Categoria do Produto')['Preço'].sum())\n",
        "print(vendas_por_categoria3)\n",
        "print()\n",
        "print('\\033[1mLoja4 \\033[0m')\n",
        "vendas_por_categoria4 = (loja4.groupby('Categoria do Produto')['Preço'].sum())\n",
        "print(vendas_por_categoria4)\n",
        "\n"
      ],
      "metadata": {
        "id": "yZR6cOjXYSk1",
        "colab": {
          "base_uri": "https://localhost:8080/"
        },
        "outputId": "37105f38-e83b-48a1-d147-4a25486e355e"
      },
      "execution_count": 31,
      "outputs": [
        {
          "output_type": "stream",
          "name": "stdout",
          "text": [
            "\u001b[1mLoja1 \u001b[0m\n",
            "Categoria do Produto\n",
            "brinquedos                23993.78\n",
            "eletrodomesticos         484913.36\n",
            "eletronicos              572659.23\n",
            "esporte e lazer           52387.55\n",
            "instrumentos musicais    121731.69\n",
            "livros                    11713.92\n",
            "moveis                   250178.11\n",
            "utilidades domesticas     16931.48\n",
            "Name: Preço, dtype: float64\n",
            "\n",
            "\u001b[1mLoja2 \u001b[0m\n",
            "Categoria do Produto\n",
            "brinquedos                21262.21\n",
            "eletrodomesticos         464758.13\n",
            "eletronicos              547773.71\n",
            "esporte e lazer           46326.09\n",
            "instrumentos musicais    139987.03\n",
            "livros                    13454.35\n",
            "moveis                   235234.68\n",
            "utilidades domesticas     19662.86\n",
            "Name: Preço, dtype: float64\n",
            "\n",
            "\u001b[1mLoja3 \u001b[0m\n",
            "Categoria do Produto\n",
            "brinquedos                25869.20\n",
            "eletrodomesticos         438984.89\n",
            "eletronicos              547699.92\n",
            "esporte e lazer           47456.10\n",
            "instrumentos musicais    103174.45\n",
            "livros                    12664.70\n",
            "moveis                   268095.56\n",
            "utilidades domesticas     20080.21\n",
            "Name: Preço, dtype: float64\n",
            "\n",
            "\u001b[1mLoja4 \u001b[0m\n",
            "Categoria do Produto\n",
            "brinquedos                27015.67\n",
            "eletrodomesticos         377680.65\n",
            "eletronicos              545966.86\n",
            "esporte e lazer           44465.65\n",
            "instrumentos musicais    100136.50\n",
            "livros                    12427.77\n",
            "moveis                   256705.65\n",
            "utilidades domesticas     20098.83\n",
            "Name: Preço, dtype: float64\n"
          ]
        }
      ]
    },
    {
      "cell_type": "code",
      "source": [
        "list_vendas_por_categorias = (list(vendas_por_categoria1),list(vendas_por_categoria2),list(vendas_por_categoria3),list(vendas_por_categoria4))\n",
        "\n",
        "dic_vendas_categorias = {Lojas: list_vendas_por_categorias for Lojas, list_vendas_por_categorias in zip(Lojas,list_vendas_por_categorias)}\n",
        "# print(dic_vendas_categorias)\n",
        "# print(dic_vendas_categorias.get('loja1')[1])\n",
        "\n",
        "# for i in range(8):\n",
        "#   print(f\"\\n comparando valores na posição {i}:\")\n",
        "#   for i in dic_vendas_categorias:\n",
        "#     for i1 in dic_vendas_categorias:\n",
        "#       if i != i1 and dic_vendas_categorias[i]> dic_vendas_categorias[i1]:\n",
        "#         print(f\"{i} é maior que {i1}\")\n",
        "\n",
        "\n",
        "for i in range(len(next(iter(dic_vendas_categorias.values())))):\n",
        "    print(f\"\\n Posição {i}:\")\n",
        "\n",
        "    valores_pos_i = {k: v[i] for k, v in dic_vendas_categorias.items()}\n",
        "\n",
        "    max_valor = max(valores_pos_i.values())\n",
        "    min_valor = min(valores_pos_i.values())\n",
        "\n",
        "    chaves_max = [k for k, v in valores_pos_i.items() if v == max_valor]\n",
        "    chaves_min = [k for k, v in valores_pos_i.items() if v == min_valor]\n",
        "\n",
        "    print(f\"Máximo: {max_valor} → {', '.join(chaves_max)}\")\n",
        "    print(f\"Mínimo: {min_valor} → {', '.join(chaves_min)}\")\n",
        "\n",
        "\n",
        "\n",
        "\n"
      ],
      "metadata": {
        "id": "A34YupIuYhfF",
        "colab": {
          "base_uri": "https://localhost:8080/"
        },
        "outputId": "8159bd0e-4a7b-4a68-e7e9-8e0240c9bcbe"
      },
      "execution_count": 32,
      "outputs": [
        {
          "output_type": "stream",
          "name": "stdout",
          "text": [
            "\n",
            " Posição 0:\n",
            "Máximo: 27015.67 → loja4\n",
            "Mínimo: 21262.21 → loja2\n",
            "\n",
            " Posição 1:\n",
            "Máximo: 484913.36 → loja1\n",
            "Mínimo: 377680.65 → loja4\n",
            "\n",
            " Posição 2:\n",
            "Máximo: 572659.23 → loja1\n",
            "Mínimo: 545966.86 → loja4\n",
            "\n",
            " Posição 3:\n",
            "Máximo: 52387.55 → loja1\n",
            "Mínimo: 44465.65 → loja4\n",
            "\n",
            " Posição 4:\n",
            "Máximo: 139987.03 → loja2\n",
            "Mínimo: 100136.5 → loja4\n",
            "\n",
            " Posição 5:\n",
            "Máximo: 13454.35 → loja2\n",
            "Mínimo: 11713.92 → loja1\n",
            "\n",
            " Posição 6:\n",
            "Máximo: 268095.56 → loja3\n",
            "Mínimo: 235234.68 → loja2\n",
            "\n",
            " Posição 7:\n",
            "Máximo: 20098.83 → loja4\n",
            "Mínimo: 16931.48 → loja1\n"
          ]
        }
      ]
    },
    {
      "cell_type": "code",
      "source": [],
      "metadata": {
        "id": "miLbN0pjzS4y"
      },
      "execution_count": 32,
      "outputs": []
    },
    {
      "cell_type": "code",
      "source": [],
      "metadata": {
        "id": "NyeqebedAbmO"
      },
      "execution_count": null,
      "outputs": []
    },
    {
      "cell_type": "markdown",
      "source": [
        "# 3. Média de Avaliação das Lojas"
      ],
      "metadata": {
        "id": "Rq6tU_xSY3jk"
      }
    },
    {
      "cell_type": "code",
      "source": [
        "avaliacoes = loja['Avaliação da compra']\n",
        "\n",
        "media_avaliacoes1 = loja['Avaliação da compra'].sum() / (len(loja['Avaliação da compra']))\n",
        "media_avaliacoes2 = loja2['Avaliação da compra'].sum() / (len(loja2['Avaliação da compra']))\n",
        "media_avaliacoes3 = loja3['Avaliação da compra'].sum() / (len(loja3['Avaliação da compra']))\n",
        "media_avaliacoes4 = loja4['Avaliação da compra'].sum() / (len(loja4['Avaliação da compra']))\n",
        "\n",
        "print('A média da loja1 é:',media_avaliacoes1.round(4))\n",
        "print('A média da loja2 é:',media_avaliacoes2.round(4))\n",
        "print('A média da loja3 é:',media_avaliacoes3.round(4))\n",
        "print('A média da loja4 é:',media_avaliacoes4.round(4))\n",
        "media_avaliacoes= [media_avaliacoes1, media_avaliacoes2, media_avaliacoes3, media_avaliacoes4]\n",
        "plt.bar(x=[\"loja1\", \"loja2\", \"loja3\", \"loja4\"], height=media_avaliacoes)\n",
        "\n"
      ],
      "metadata": {
        "id": "bh3jjjJwY5MU",
        "colab": {
          "base_uri": "https://localhost:8080/",
          "height": 517
        },
        "outputId": "3996830d-c0e6-4b3c-bbc9-4aa057755560"
      },
      "execution_count": 33,
      "outputs": [
        {
          "output_type": "stream",
          "name": "stdout",
          "text": [
            "A média da loja1 é: 3.9767\n",
            "A média da loja2 é: 4.0373\n",
            "A média da loja3 é: 4.0483\n",
            "A média da loja4 é: 3.9958\n"
          ]
        },
        {
          "output_type": "execute_result",
          "data": {
            "text/plain": [
              "<BarContainer object of 4 artists>"
            ]
          },
          "metadata": {},
          "execution_count": 33
        },
        {
          "output_type": "display_data",
          "data": {
            "text/plain": [
              "<Figure size 640x480 with 1 Axes>"
            ],
            "image/png": "[encoded data removed]"
          },
          "metadata": {}
        }
      ]
    },
    {
      "cell_type": "code",
      "source": [],
      "metadata": {
        "id": "I0KkjPoTY88F"
      },
      "execution_count": 33,
      "outputs": []
    },
    {
      "cell_type": "markdown",
      "source": [
        "# 4. Produtos Mais e Menos Vendidos"
      ],
      "metadata": {
        "id": "DmNp1KPBZCm-"
      }
    },
    {
      "cell_type": "code",
      "source": [
        "produto_mais_vendido1 = loja['Produto'].value_counts().idxmax()\n",
        "produto_menos_vendido1 = loja['Produto'].value_counts().idxmin()\n",
        "quantidade_vendida11 = loja['Produto'].value_counts().max()\n",
        "quantidade_vendida12 = loja['Produto'].value_counts().min()\n",
        "\n",
        "produto_mais_vendido2 = loja2['Produto'].value_counts().idxmax()\n",
        "produto_menos_vendido2 = loja2['Produto'].value_counts().idxmin()\n",
        "quantidade_vendida21 = loja2['Produto'].value_counts().max()\n",
        "quantidade_vendida22 = loja2['Produto'].value_counts().min()\n",
        "\n",
        "produto_mais_vendido3 = loja3['Produto'].value_counts().idxmax()\n",
        "produto_menos_vendido3 = loja3['Produto'].value_counts().idxmin()\n",
        "quantidade_vendida31 = loja3['Produto'].value_counts().max()\n",
        "quantidade_vendida32 = loja3['Produto'].value_counts().min()\n",
        "\n",
        "produto_mais_vendido4 = loja4['Produto'].value_counts().idxmax()\n",
        "produto_menos_vendido4 = loja4['Produto'].value_counts().idxmin()\n",
        "quantidade_vendida41 = loja4['Produto'].value_counts().max()\n",
        "quantidade_vendida42 = loja4['Produto'].value_counts().min()\n",
        "\n",
        "\n",
        "\n",
        "\n",
        "print('Loja1')\n",
        "print(f\"Produto mais vendido, menos vendido e número de vendas (respectivamente) : {produto_mais_vendido1, quantidade_vendida11, produto_menos_vendido1, quantidade_vendida12}\")\n",
        "print()\n",
        "print('Loja2')\n",
        "print(f\"Produto mais vendido, menos vendido (respectivamente) : {produto_mais_vendido2, quantidade_vendida21, produto_menos_vendido2, quantidade_vendida22}\")\n",
        "print()\n",
        "print('Loja3')\n",
        "print(f\"Produto mais vendido, menos vendido (respectivamente) : {produto_mais_vendido3, quantidade_vendida31, produto_menos_vendido3, quantidade_vendida32}\")\n",
        "print()\n",
        "print('Loja4')\n",
        "print(f\"Produto mais vendido, menos vendido (respectivamente) : {produto_mais_vendido4, quantidade_vendida41, produto_menos_vendido4, quantidade_vendida42}\")\n",
        "print()\n"
      ],
      "metadata": {
        "id": "qoyjqijQZHfF",
        "colab": {
          "base_uri": "https://localhost:8080/"
        },
        "outputId": "44e5b340-43c1-4257-dc35-b1e61c82e2e0"
      },
      "execution_count": 34,
      "outputs": [
        {
          "output_type": "stream",
          "name": "stdout",
          "text": [
            "Loja1\n",
            "Produto mais vendido, menos vendido e número de vendas (respectivamente) : ('Micro-ondas', 60, 'Headset', 33)\n",
            "\n",
            "Loja2\n",
            "Produto mais vendido, menos vendido (respectivamente) : ('Iniciando em programação', 65, 'Jogo de tabuleiro', 32)\n",
            "\n",
            "Loja3\n",
            "Produto mais vendido, menos vendido (respectivamente) : ('Kit banquetas', 57, 'Blocos de montar', 35)\n",
            "\n",
            "Loja4\n",
            "Produto mais vendido, menos vendido (respectivamente) : ('Cama box', 62, 'Guitarra', 33)\n",
            "\n"
          ]
        }
      ]
    },
    {
      "cell_type": "code",
      "source": [],
      "metadata": {
        "id": "0Sw3sd4IZIGW"
      },
      "execution_count": 34,
      "outputs": []
    },
    {
      "cell_type": "markdown",
      "source": [
        "# 5. Frete Médio por Loja\n"
      ],
      "metadata": {
        "id": "Fl0cGi3bZKqU"
      }
    },
    {
      "cell_type": "code",
      "source": [
        "frete_medio1 = (loja['Frete'].sum()/len(loja['Frete']))\n",
        "frete_medio2 = (loja['Frete'].sum()/len(loja2['Frete']))\n",
        "frete_medio3 = (loja['Frete'].sum()/len(loja3['Frete']))\n",
        "frete_medio4 = (loja['Frete'].sum()/len(loja4['Frete']))\n",
        "\n",
        "print(f\"O frete médio da Loja1 foi de: {frete_medio1.round(4)}\")\n",
        "print(f\"O frete médio da Loja2 foi de: {frete_medio2.round(5)}\")\n",
        "print(f\"O frete médio da Loja3 foi de: {frete_medio3.round(5)}\")\n",
        "print(f\"O frete médio da Loja4 foi de: {frete_medio4.round(5)}\")\n",
        "\n"
      ],
      "metadata": {
        "id": "S2JeaCykZNy9",
        "colab": {
          "base_uri": "https://localhost:8080/"
        },
        "outputId": "c5285ca2-f133-4e7f-b196-8f3d5cb4fa81"
      },
      "execution_count": 35,
      "outputs": [
        {
          "output_type": "stream",
          "name": "stdout",
          "text": [
            "O frete médio da Loja1 foi de: 34.6918\n",
            "O frete médio da Loja2 foi de: 34.6918\n",
            "O frete médio da Loja3 foi de: 34.6918\n",
            "O frete médio da Loja4 foi de: 34.70652\n"
          ]
        }
      ]
    },
    {
      "cell_type": "code",
      "source": [],
      "metadata": {
        "id": "0tSdCie9ZQlt"
      },
      "execution_count": 35,
      "outputs": []
    },
    {
      "cell_type": "markdown",
      "source": [
        "## Relatório"
      ],
      "metadata": {
        "id": "8Gbyz6ykeNdL"
      }
    },
    {
      "cell_type": "code",
      "source": [
        "print(f\"Com base nas análises feitas a loja mais propensa a ser fechada é a loja 4. O faturamento da loja 4 foi de R${faturamento_loja4:,.2f}, o que representa uma diferença de R${faturamento_loja1-faturamento_loja4:,.2f}, em relação à venda por categoria, a loja 4 foi a que menos vendeu em 4 categorias (eletrodomesticos, eletronicos, esporte e lazer, instrumentos musicais). Apesar da diferença entre a média das avaliações das lojas não variar muito, a loja 4 ficou em terceiro lugar, assim como em relação ao frete médio, em que ficou com o valor mais alto.\")"
      ],
      "metadata": {
        "id": "s0CTPXNDeQW9",
        "colab": {
          "base_uri": "https://localhost:8080/"
        },
        "outputId": "bbffe665-4c75-4445-b42f-dd1da7aba0fb"
      },
      "execution_count": 38,
      "outputs": [
        {
          "output_type": "stream",
          "name": "stdout",
          "text": [
            "Com base nas análises feitas a loja mais propensa a ser fechada é a loja 4. O faturamento da loja 4 foi de R$1,384,497.58, o que representa uma diferença de R$150,011.54, em relação à venda por categoria, a loja 4 foi a que menos vendeu em 4 categorias (eletrodomesticos, eletronicos, esporte e lazer, instrumentos musicais). Apesar da diferença entre a média das avaliações das lojas não variar muito, a loja 4 ficou em terceiro lugar, assim como em relação ao frete médio, em que ficou com o valor mais alto.\n"
          ]
        }
      ]
    },
    {
      "cell_type": "code",
      "source": [],
      "metadata": {
        "id": "SIm-SN5fAO4M"
      },
      "execution_count": null,
      "outputs": []
    }
  ]
}